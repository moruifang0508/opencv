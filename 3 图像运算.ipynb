{
 "cells": [
  {
   "cell_type": "markdown",
   "metadata": {},
   "source": [
    "## 1加法运算\n",
    "1）numpy加法\n",
    "\n",
    "运算方式： 结果=图像1+图像2\n",
    "\n",
    "取模运算：对于八位二进制的图像，其值的范围为0～255,如果加法的结果小于等于255，将取本身，如果大于255，将取模运算，如(255+58)=(255+58)%255=58\n",
    "\n",
    "2）opencv加法\n",
    "\n",
    "运算方式：结果=cv2.add(图像1,图像2）\n",
    "\n",
    "饱和运算：如果加法的结果小于等于255，将取其本身，如果大于255，将取255\n",
    "\n",
    "numpy加法和opencv加法结果将不一样，后者效果自然，更符合实际，但是两者各有用途，用在不同场合\n",
    "\n",
    "注意：参与运算的图像大小、类型必须一致"
   ]
  },
  {
   "cell_type": "markdown",
   "metadata": {},
   "source": [
    "实例"
   ]
  },
  {
   "cell_type": "code",
   "execution_count": 2,
   "metadata": {},
   "outputs": [],
   "source": [
    "import cv2\n",
    "import numpy as np\n",
    "imga=cv2.imread(\"./image/lena256.bmp\")\n",
    "imgb=imga\n",
    "numpyadd=imga+imgb\n",
    "opencvadd=cv2.add(imga,imgb)\n",
    "cv2.imshow('original',imga)\n",
    "cv2.imshow('numpyadd',numpyadd)\n",
    "cv2.imshow(\"opencvadd\",opencvadd)\n",
    "cv2.waitKey(0)\n",
    "cv2.destroyAllWindows()"
   ]
  },
  {
   "cell_type": "markdown",
   "metadata": {},
   "source": [
    "## 2 图像融合\n",
    "将2张或2张以上的图像信息融合到1张图像上\n",
    "\n",
    "通常是将图像相加，并使用一些算法，使新的图像更加清晰\n",
    "\n",
    "图像加法： 结果图像=图像1+图像2\n",
    "\n",
    "         img=img1+img2\n",
    "         \n",
    "图像融合： 结果图像=图像1*系数1+图像2*系数2+亮度调节量\n",
    "\n",
    "         img=img1*0.3+img2*0.7+18\n",
    "         \n",
    "函数addWeighted\n",
    "\n",
    "dst=cv2.addWeighted(src1,alpha,src2,beta,gamma)\n",
    "\n",
    "相当于：dst=src1*alpha+src2*beta+gamma\n",
    "\n",
    "注意：gamma可以为0,但是不能省略\n"
   ]
  },
  {
   "cell_type": "markdown",
   "metadata": {},
   "source": [
    "实例"
   ]
  },
  {
   "cell_type": "code",
   "execution_count": 3,
   "metadata": {},
   "outputs": [],
   "source": [
    "import cv2\n",
    "imga=cv2.imread(\"./image/boat.bmp\")\n",
    "imgb=cv2.imread(\"./image/lena.bmp\")\n",
    "cv2.imshow('imga',imga)\n",
    "cv2.imshow('imgb',imgb)\n",
    "result=cv2.addWeighted(imga,0.6,imgb,0.3,10)\n",
    "cv2.imshow('result',result)\n",
    "cv2.waitKey(0)\n",
    "cv2.destroyAllWindows()"
   ]
  }
 ],
 "metadata": {
  "kernelspec": {
   "display_name": "Python 3",
   "language": "python",
   "name": "python3"
  },
  "language_info": {
   "codemirror_mode": {
    "name": "ipython",
    "version": 3
   },
   "file_extension": ".py",
   "mimetype": "text/x-python",
   "name": "python",
   "nbconvert_exporter": "python",
   "pygments_lexer": "ipython3",
   "version": "3.7.0"
  }
 },
 "nbformat": 4,
 "nbformat_minor": 2
}
