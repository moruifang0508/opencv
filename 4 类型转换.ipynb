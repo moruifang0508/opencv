{
 "cells": [
  {
   "cell_type": "markdown",
   "metadata": {},
   "source": [
    "## 1 图像类型转换\n",
    "将图像从一种类型转换为另一种类型，如\n",
    "\n",
    "1）彩色转灰度：cv2.COLOR_BGR2GRAY\n",
    "\n",
    "2）BGR转RGB:cv2.COLOR_BGR2RGB\n",
    "\n",
    "3）灰度转BGR:cv2.COLOR_GRAY2BGR\n",
    "\n",
    "灰度转换为BGR后，虽然图像看起来没有变化，但是变成了三通道，B、G、R通道的值不一定一样\n",
    "\n",
    "opencv中有200多种类型转换\n",
    "\n",
    "格式如：cv2.cvtColor(img，cv2.COLOR_BGR2GRAY)"
   ]
  },
  {
   "cell_type": "markdown",
   "metadata": {},
   "source": [
    "实例"
   ]
  },
  {
   "cell_type": "code",
   "execution_count": null,
   "metadata": {},
   "outputs": [],
   "source": [
    "import cv2\n",
    "imga = cv2.imread(\"./image/lenacolor.png\")\n",
    "cv2.imshow('imga',imga)\n",
    "imgb = cv2.cvtColor(imga,cv2.COLOR_BGR2GRAY)\n",
    "imgc = cv2.cvtColor(imga,cv2.COLOR_BGR2RGB)\n",
    "cv2.imshow('imgb',imgb)\n",
    "cv2.imshow('imgc',imgc)\n",
    "cv2.waitKey(0)\n",
    "cv2.destroyAllWindows()\n",
    "print('imga=',imga)\n",
    "print('imgb=',imgb)\n",
    "print('imgc=',imgc)"
   ]
  },
  {
   "cell_type": "code",
   "execution_count": null,
   "metadata": {},
   "outputs": [],
   "source": [
    "imga = cv2.imread(\"./image/lena256.bmp\",cv2.IMREAD_UNCHANGED)\n",
    "imgb = cv2.cvtColor(imga,cv2.COLOR_GRAY2BGR)\n",
    "print(imga.shape)\n",
    "print(imgb.shape)\n",
    "print('imga=',imga)\n",
    "print('imgb=',imgb)\n",
    "cv2.imshow('imga',imga)\n",
    "cv2.imshow('imgb=',imgb)\n",
    "cv2.waitKey(0)\n",
    "cv2.destroyAllWindows()"
   ]
  }
 ],
 "metadata": {
  "kernelspec": {
   "display_name": "Python 3",
   "language": "python",
   "name": "python3"
  },
  "language_info": {
   "codemirror_mode": {
    "name": "ipython",
    "version": 3
   },
   "file_extension": ".py",
   "mimetype": "text/x-python",
   "name": "python",
   "nbconvert_exporter": "python",
   "pygments_lexer": "ipython3",
   "version": "3.7.0"
  }
 },
 "nbformat": 4,
 "nbformat_minor": 2
}
