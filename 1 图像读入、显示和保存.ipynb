{
 "cells": [
  {
   "cell_type": "markdown",
   "metadata": {},
   "source": [
    "## 1 图片处理 "
   ]
  },
  {
   "cell_type": "markdown",
   "metadata": {},
   "source": [
    "1. 读入图像\n",
    "\n",
    "2. 显示图像\n",
    "\n",
    "3. 保存图像"
   ]
  },
  {
   "cell_type": "markdown",
   "metadata": {},
   "source": [
    "1. 读入图像\n",
    "\n",
    "语法：\n",
    "\n",
    "retval = cv2.imread(文件名 [,显示控制参数])\n",
    "\n",
    "文件名：完整文件名\n",
    "\n",
    "显示控制参数，可选，有很多种，最常用的有： 1）cv.IMREAD_UNCHANGED 不改变原来的样式 2)cv.GRAYSCALE 3)cv.IMREAD_COLOR\n",
    "\n",
    "例子：\n",
    "\n",
    "img=cv2.imread(\"d:\\\\image.jpg\")"
   ]
  },
  {
   "cell_type": "markdown",
   "metadata": {},
   "source": [
    "2. 显示图像\n",
    "\n",
    "语法：\n",
    "\n",
    "cv2.imshow(窗口名，图像名）\n",
    "\n",
    "注意：窗口名不能用中文，否则会有问题\n",
    "\n",
    "实例：\n",
    "\n",
    "cv2.imshow(\"demo\", image)\n",
    "\n",
    "在显示图像时还需要另两个语句，否则图像一打开就关闭：\n",
    "\n",
    "1） cv2.waitKey([,dalay])\n",
    "\n",
    "dalay:可选参数，为一个整数\n",
    "\n",
    "delay>0 等待dalay毫秒\n",
    "\n",
    "delay<0 等待键盘单击\n",
    "\n",
    "delay=0 无限等待,最常用，手动关闭\n",
    "\n",
    "实例：\n",
    "\n",
    "cv2.waitKey(0) #最常用，无限等待，需要手动关闭\n",
    "\n",
    "cv2.waitKey() #等待键盘单击，按任何一个键都有效，但是如果手动关闭的话会有问题，进程不会结束\n",
    "\n",
    "2） cv2.destroyAllWindows()\n",
    "\n",
    "功能：从内存数据中删除所有窗口"
   ]
  },
  {
   "cell_type": "markdown",
   "metadata": {},
   "source": [
    "3. 保存图像\n",
    "\n",
    "retval=cv2.imwrite(文件地址，图像名)\n",
    "\n",
    "实例：\n",
    "\n",
    "cv2.imwrite('D:\\\\test.jpg',img)"
   ]
  },
  {
   "cell_type": "markdown",
   "metadata": {},
   "source": [
    "4 实战\n",
    "\n"
   ]
  },
  {
   "cell_type": "code",
   "execution_count": null,
   "metadata": {},
   "outputs": [],
   "source": [
    "import cv2\n",
    "img=cv2.imread(\"/home/lyc/Desktop/python+opencv/pic/test.jpg\")\n",
    "cv2.imshow(\"Demo\",img)\n",
    "cv2.waitKey(0)\n",
    "cv2.destroyAllWindows()\n",
    "cv2.imwrite(\"/home/lyc/Desktop/python+opencv/pic/testcopy.jpg\",img)"
   ]
  },
  {
   "cell_type": "code",
   "execution_count": null,
   "metadata": {},
   "outputs": [],
   "source": []
  }
 ],
 "metadata": {
  "kernelspec": {
   "display_name": "Python 3",
   "language": "python",
   "name": "python3"
  },
  "language_info": {
   "codemirror_mode": {
    "name": "ipython",
    "version": 3
   },
   "file_extension": ".py",
   "mimetype": "text/x-python",
   "name": "python",
   "nbconvert_exporter": "python",
   "pygments_lexer": "ipython3",
   "version": "3.7.0"
  }
 },
 "nbformat": 4,
 "nbformat_minor": 2
}
