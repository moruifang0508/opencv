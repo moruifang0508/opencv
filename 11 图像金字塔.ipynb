{
 "cells": [
  {
   "cell_type": "markdown",
   "metadata": {},
   "source": [
    "## 1 理论基础\n",
    "图像金字塔：同一图像的不同分辨率的子图集合，每一层的分辨率或大小都不一样，最底层很大，越往上越小，顶层最小\n",
    "\n",
    "1. 向下采样：分辨率或大小越来越小，缩小图像，从第i层获取第i+1层：Gi->Gi+1\n",
    "\n",
    "需要两步操作：\n",
    "\n",
    "1）对图像Gi进行高斯核卷积，即高斯滤波\n",
    "\n",
    "2）卷积之后得到的滤波图像，删除所有的偶数行和列：删除之后，大小將缩小一半\n",
    "\n",
    "上述操作被称为:Octave\n",
    "\n",
    "重复该过程，构造图像金字塔\n",
    "\n",
    "注意：向下采样会丢失信息\n",
    "\n",
    "\n",
    "2. 向上取样：分辨率或大小越来越大，放大图像\n",
    "\n",
    "需要两个步骤：\n",
    "\n",
    "1）在每个方向上扩大为原来的2倍，新增的行和列以0填充\n",
    "\n",
    "2）使用与“向下采样”同样的卷积核乘以4,获取“新增像素”的新值，因为隔行和隔列填充0,0跟卷积核相乘还是0,相当于填充0之前的非0元素被除了4,因此还需要*4补偿回来。\n",
    "\n",
    "注意：放大后的图像比原始图像要模糊\n",
    "\n",
    "向下采样和向上采样不是互逆操作，经过两种操作后，无法恢复原有图像\n",
    "\n"
   ]
  },
  {
   "cell_type": "markdown",
   "metadata": {},
   "source": [
    "## 2 向下取样函数及使用\n",
    "\n",
    "格式：dst=cv2.pyrDown(src)\n",
    "\n",
    "dst:向下取样结果\n",
    "\n",
    "src：原始图像\n",
    "\n",
    "注意：不需要指定层数，因为每调用一次只缩小一半。可以多次调用进行多次取样"
   ]
  },
  {
   "cell_type": "code",
   "execution_count": 2,
   "metadata": {},
   "outputs": [],
   "source": [
    "import cv2\n",
    "import numpy as np\n",
    "img=cv2.imread(\"./image/lena.bmp\",cv2.IMREAD_GRAYSCALE)\n",
    "img1=cv2.pyrDown(img)\n",
    "cv2.imshow(\"original\",img)\n",
    "cv2.imshow(\"result\",img1)\n",
    "cv2.waitKey(0)\n",
    "cv2.destroyAllWindows()"
   ]
  },
  {
   "cell_type": "code",
   "execution_count": 4,
   "metadata": {},
   "outputs": [],
   "source": [
    "import cv2\n",
    "import numpy as np\n",
    "img=cv2.imread(\"./image/man.bmp\",cv2.IMREAD_GRAYSCALE)\n",
    "r1=cv2.pyrDown(img) #多次取样\n",
    "r2=cv2.pyrDown(r1)\n",
    "r3=cv2.pyrDown(r2)\n",
    "cv2.imshow(\"original\",img)\n",
    "cv2.imshow(\"r1\",r1)\n",
    "cv2.imshow(\"r2\",r2)\n",
    "cv2.imshow(\"r3\",r3)\n",
    "\n",
    "cv2.waitKey(0)\n",
    "cv2.destroyAllWindows()"
   ]
  },
  {
   "cell_type": "markdown",
   "metadata": {},
   "source": [
    "## 3 向上取样及使用\n",
    "\n",
    "格式： dst=cv2.pyrUp(src)\n",
    "\n",
    "dst:向上取样结果\n",
    "\n",
    "src：原始图像"
   ]
  },
  {
   "cell_type": "code",
   "execution_count": 5,
   "metadata": {},
   "outputs": [],
   "source": [
    "import cv2\n",
    "import numpy as np\n",
    "img=cv2.imread(\"./image/lena256.bmp\",cv2.IMREAD_GRAYSCALE)\n",
    "img1=cv2.pyrUp(img)\n",
    "cv2.imshow(\"origial\",img)\n",
    "cv2.imshow(\"pyrUp\",img1)\n",
    "cv2.waitKey(0)\n",
    "cv2.destroyAllWindows()"
   ]
  },
  {
   "cell_type": "code",
   "execution_count": 7,
   "metadata": {},
   "outputs": [],
   "source": [
    "import cv2\n",
    "import numpy as np\n",
    "img=cv2.imread(\"./image/p.bmp\",cv2.IMREAD_GRAYSCALE)\n",
    "r1=cv2.pyrUp(img)\n",
    "r2=cv2.pyrUp(r1)\n",
    "r3=cv2.pyrUp(r2)\n",
    "cv2.imshow(\"origial\",img)\n",
    "cv2.imshow(\"r1\",r1)\n",
    "cv2.imshow(\"r2\",r2)\n",
    "cv2.imshow(\"r3\",r3)\n",
    "\n",
    "cv2.waitKey(0)\n",
    "cv2.destroyAllWindows()"
   ]
  },
  {
   "cell_type": "markdown",
   "metadata": {},
   "source": [
    "## 4可逆性研究\n",
    "\n",
    "分别经过一次先向下取样后向上取样，或者先经过向上采样再向下采样后，能否经过一定的处理，恢复图像？"
   ]
  },
  {
   "cell_type": "code",
   "execution_count": 9,
   "metadata": {},
   "outputs": [],
   "source": [
    "import cv2\n",
    "img=cv2.imread(\"./image/girl.bmp\")\n",
    "down=cv2.pyrDown(img)\n",
    "up=cv2.pyrUp(down) #先向下取样，再向上取样，图像变模糊了\n",
    "diff=up-img\n",
    "cv2.imshow(\"original\",img)\n",
    "cv2.imshow(\"down\",down)\n",
    "cv2.imshow(\"up\",up)\n",
    "cv2.imshow(\"diff\",diff)\n",
    "cv2.waitKey(0)\n",
    "cv2.destroyAllWindows()"
   ]
  },
  {
   "cell_type": "code",
   "execution_count": 10,
   "metadata": {},
   "outputs": [],
   "source": [
    "import cv2\n",
    "img=cv2.imread(\"./image/girl.bmp\")\n",
    "up=cv2.pyrUp(img)\n",
    "down=cv2.pyrDown(up) #先向上取样，再向下取样，图像变模糊了\n",
    "diff=down-img\n",
    "\n",
    "cv2.imshow(\"original\",img)\n",
    "cv2.imshow(\"up\",up)\n",
    "cv2.imshow(\"down\",down)\n",
    "cv2.imshow(\"diff\",diff)\n",
    "cv2.waitKey(0)\n",
    "cv2.destroyAllWindows()"
   ]
  },
  {
   "cell_type": "markdown",
   "metadata": {},
   "source": [
    "## 5 拉普拉斯金字塔\n",
    "\n",
    "格式：Li=Gi-PyrUp(PyrDown(Gi））\n",
    "\n",
    "Gi：原始图像，G0为原始图像，当i>=1时，Gi=PyrDown(Gi-1)\n",
    "\n",
    "Li:拉普拉斯金字塔图像"
   ]
  },
  {
   "cell_type": "code",
   "execution_count": 11,
   "metadata": {},
   "outputs": [],
   "source": [
    "import cv2\n",
    "o=cv2.imread(\"./image/lena.bmp\")\n",
    "od=cv2.pyrDown(o)\n",
    "odu=cv2.pyrUp(od)\n",
    "lapPyr=o-odu #第0层拉普拉斯金字塔\n",
    "cv2.imshow(\"original\",o)\n",
    "cv2.imshow(\"lapPyr\",lapPyr)\n",
    "cv2.waitKey(0)\n",
    "cv2.destroyAllWindows()"
   ]
  },
  {
   "cell_type": "code",
   "execution_count": 12,
   "metadata": {},
   "outputs": [],
   "source": [
    "import cv2\n",
    "o=cv2.imread(\"./image/lena.bmp\")\n",
    "od=cv2.pyrDown(o)\n",
    "odu=cv2.pyrUp(od)\n",
    "lapPyr=o-odu #第0层拉普拉斯金字塔\n",
    "\n",
    "o1=od\n",
    "o1d=cv2.pyrDown(o1)\n",
    "o1du=cv2.pyrUp(o1d)\n",
    "lapPyr1=o1-o1du #第1层拉普拉斯金字塔\n",
    "\n",
    "cv2.imshow(\"original\",o)\n",
    "cv2.imshow(\"lapPyr\",lapPyr)\n",
    "cv2.imshow(\"lapPyr1\",lapPyr1)\n",
    "\n",
    "cv2.waitKey(0)\n",
    "cv2.destroyAllWindows()"
   ]
  }
 ],
 "metadata": {
  "kernelspec": {
   "display_name": "Python 3",
   "language": "python",
   "name": "python3"
  },
  "language_info": {
   "codemirror_mode": {
    "name": "ipython",
    "version": 3
   },
   "file_extension": ".py",
   "mimetype": "text/x-python",
   "name": "python",
   "nbconvert_exporter": "python",
   "pygments_lexer": "ipython3",
   "version": "3.7.0"
  }
 },
 "nbformat": 4,
 "nbformat_minor": 2
}
