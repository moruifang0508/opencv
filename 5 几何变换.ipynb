{
 "cells": [
  {
   "cell_type": "markdown",
   "metadata": {},
   "source": [
    "## 1 图像缩放\n",
    "包括图像的缩小和放大\n",
    "\n",
    "函数resize\n",
    "\n",
    "语法格式：\n",
    "\n",
    "dst=cv2.resize(src,dsize[,dst[,fx[,fy[,interpolation]]]])\n",
    "\n",
    "其中，两个必备参数：\n",
    "\n",
    "scr:原始图像\n",
    "\n",
    "dsize：缩放大小\n",
    "\n",
    "dst=cv2.resize(src,dsize)\n",
    "\n",
    "实例： cv2.resize(img,(122,122)) #注意：第一个122是指列，第二个122是指行\n",
    "\n",
    "如果不通过dsize缩放，可以将其设为None，通过fx和fy缩放倍数,dsize和fx、fy只设置一个\n",
    "\n",
    "实例：cv2.resize(img,None,fx=0.5.fy=0.7)"
   ]
  },
  {
   "cell_type": "code",
   "execution_count": 2,
   "metadata": {},
   "outputs": [],
   "source": [
    "import cv2\n",
    "imga=cv2.imread(\"/home/lyc/Desktop/python+opencv/image/lenacolor.png\")\n",
    "imgb=cv2.resize(imga,(200,100))\n",
    "cv2.imshow(\"imga\",imga)\n",
    "cv2.imshow(\"imgb\",imgb)\n",
    "cv2.waitKey(0)\n",
    "cv2.destroyAllWindows()"
   ]
  },
  {
   "cell_type": "code",
   "execution_count": 3,
   "metadata": {},
   "outputs": [],
   "source": [
    "import cv2\n",
    "imga=cv2.imread(\"/home/lyc/Desktop/python+opencv/image/lenacolor.png\")\n",
    "rows,cols,chn=imga.shape\n",
    "size=(round(rows*0.5),round(cols*1.5))\n",
    "imgb=cv2.resize(imga,size)\n",
    "cv2.imshow(\"imga\",imga)\n",
    "cv2.imshow(\"imgb\",imgb)\n",
    "cv2.waitKey(0)\n",
    "cv2.destroyAllWindows()"
   ]
  },
  {
   "cell_type": "code",
   "execution_count": 4,
   "metadata": {},
   "outputs": [],
   "source": [
    "import cv2\n",
    "imga=cv2.imread(\"/home/lyc/Desktop/python+opencv/image/lenacolor.png\")\n",
    "imgb=cv2.resize(imga,None,fx=0.5,fy=1.3)\n",
    "cv2.imshow(\"imga\",imga)\n",
    "cv2.imshow(\"imgb\",imgb)\n",
    "cv2.waitKey(0)\n",
    "cv2.destroyAllWindows()"
   ]
  },
  {
   "cell_type": "markdown",
   "metadata": {},
   "source": [
    "## 2 图像翻转\n",
    "flip函数\n",
    "\n",
    "语法：dst=cv2.flip(src,flipCode)\n",
    "\n",
    "三种翻转模式：1）flipCode=0 以x为坐标轴上下翻转 2）filpCode>0 以y为坐标轴左右翻转 3）分别以x和y为坐标轴，上下和左右翻转"
   ]
  },
  {
   "cell_type": "markdown",
   "metadata": {},
   "source": [
    "实例"
   ]
  },
  {
   "cell_type": "code",
   "execution_count": 5,
   "metadata": {},
   "outputs": [],
   "source": [
    "import cv2\n",
    "imga=cv2.imread(\"/home/lyc/Desktop/python+opencv/image/lenacolor.png\")\n",
    "imgb=cv2.flip(imga,0)\n",
    "cv2.imshow('imga',imga)\n",
    "cv2.imshow('imgb',imgb)\n",
    "cv2.waitKey(0)\n",
    "cv2.destroyAllWindows()"
   ]
  },
  {
   "cell_type": "code",
   "execution_count": 6,
   "metadata": {},
   "outputs": [],
   "source": [
    "import cv2\n",
    "imga=cv2.imread(\"/home/lyc/Desktop/python+opencv/image/lenacolor.png\")\n",
    "imgb=cv2.flip(imga,1)\n",
    "cv2.imshow('imga',imga)\n",
    "cv2.imshow('imgb',imgb)\n",
    "cv2.waitKey(0)\n",
    "cv2.destroyAllWindows()"
   ]
  },
  {
   "cell_type": "code",
   "execution_count": 7,
   "metadata": {},
   "outputs": [],
   "source": [
    "import cv2\n",
    "imga=cv2.imread(\"/home/lyc/Desktop/python+opencv/image/lenacolor.png\")\n",
    "imgb=cv2.flip(imga,-1)\n",
    "cv2.imshow('imga',imga)\n",
    "cv2.imshow('imgb',imgb)\n",
    "cv2.waitKey(0)\n",
    "cv2.destroyAllWindows()"
   ]
  }
 ],
 "metadata": {
  "kernelspec": {
   "display_name": "Python 3",
   "language": "python",
   "name": "python3"
  },
  "language_info": {
   "codemirror_mode": {
    "name": "ipython",
    "version": 3
   },
   "file_extension": ".py",
   "mimetype": "text/x-python",
   "name": "python",
   "nbconvert_exporter": "python",
   "pygments_lexer": "ipython3",
   "version": "3.7.0"
  }
 },
 "nbformat": 4,
 "nbformat_minor": 2
}
