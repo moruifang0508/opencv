{
 "cells": [
  {
   "cell_type": "markdown",
   "metadata": {},
   "source": [
    "## 1 图像处理入门\n",
    "图像由像素构成，每个像素相当于一个点，如果图像不够清晰，说明像素比较大、粗糙，相反，如果图像比较细腻，说明每个像素比较小\n",
    "\n",
    "像素的大小为：高*宽\n",
    "\n",
    "图像分类：\n",
    "\n",
    "1）二值图像：只有0和1两个数，非黑即白，0为黑色，1为白色\n",
    "\n",
    "2）灰度图像：有0～255一共256个值，0为黑，255为白，其他值为各种灰，所以比二值图像清晰\n",
    "\n",
    "3）彩色图像：由RGB通道，每个通道有0～255个值构成，可以通过不同组合表示任何像素，在opencv中，彩色图像的排序为BGR，从opencv里出来的需要变换\n",
    "\n",
    "变成RGB格式\n",
    "\n",
    "如果将RGB图像有三个通道，直接转换会比较麻烦，一般是先转换为只有一个通道的灰度图像，再进行后续的图像处理，如模式识别、图像检索等。RGB图像转换为灰度图像不会信息丢失，是经过一定的加权得到的,有时候也需要將灰度图像转换为二值图像"
   ]
  },
  {
   "cell_type": "markdown",
   "metadata": {},
   "source": [
    "## 2 像素处理\n",
    "1）读取像素：\n",
    "\n",
    "格式：返回值=图像(位置参数）\n",
    "\n",
    "灰度图像：返回灰度值，如：p=img[82，90]\n",
    "\n",
    "BGR图像：返回值为B、G、R的值,可以直接返回三个通道的值，也可以分别返回各个通道的值：\n",
    "\n",
    "p=img[78,125]\n",
    "\n",
    "blue=img[78,125,0] \n",
    "\n",
    "green=img[78,125,1]\n",
    "\n",
    "red=img[78,125,2]\n",
    "\n",
    "\n",
    "2）修改像素：\n",
    "\n",
    "灰度图像：\n",
    "\n",
    "img[88,99]=255\n",
    "\n",
    "BGR图像：\n",
    "\n",
    "可以分通道设置：\n",
    "\n",
    "img[88,99,0]=255\n",
    "\n",
    "img[88,99,1]=255\n",
    "\n",
    "img[88,99,2]=255\n",
    "\n",
    "也可以同时设置：\n",
    "\n",
    "img[88,99]=[255,255,255]"
   ]
  },
  {
   "cell_type": "markdown",
   "metadata": {},
   "source": [
    "3)实例"
   ]
  },
  {
   "cell_type": "code",
   "execution_count": null,
   "metadata": {},
   "outputs": [],
   "source": [
    "import cv2\n",
    "img=cv2.imread(\"/home/lyc/Desktop/python+opencv/image/lena256.bmp\",cv2.IMREAD_UNCHANGED) #灰度图像\n",
    "p=img[100,100] #读取像素\n",
    "print(p)\n",
    "img[100,100]=255 #修改像素\n",
    "print(img[100,100])\n"
   ]
  },
  {
   "cell_type": "code",
   "execution_count": null,
   "metadata": {},
   "outputs": [],
   "source": [
    "img=cv2.imread(\"/home/lyc/Desktop/python+opencv/image/lenacolor.png\",cv2.IMREAD_UNCHANGED) #彩色图像\n",
    "p=img[100,100]\n",
    "print(p)\n",
    "\n",
    "img[100,100,0]=3 #可以分别修改BGR上的像素值\n",
    "img[100,100,1]=80\n",
    "img[100,100,2]=200\n",
    "print(img[100,100])\n",
    "\n",
    "img[100,100]=255 #同时改三个通道上的值为同一个值\n",
    "print(img[100,100])\n",
    "\n",
    "img[100,100]=[10,20,30] #同时修改三个通道上的值为不同的值\n",
    "print(img[100,100])\n",
    "\n",
    "cv2.imshow('original',img)\n",
    "img[100:150,100:150]=[255,255,255] #设置一定范围\n",
    "cv2.imshow(\"result\",img)\n",
    "cv2.waitKey(0)\n",
    "cv2.destroyAllWindows()"
   ]
  },
  {
   "cell_type": "markdown",
   "metadata": {},
   "source": [
    "## 3 使用numpy访问像素\n",
    "1. 读取像素\n",
    "\n",
    "格式： 返回值=图像.item(位置参数）\n",
    "\n",
    "灰度图像：返回灰度值，如：p=img.item(88,142)\n",
    "\n",
    "BGR图像：返回B、G、R的值\n",
    "\n",
    "注意：BGR图像不能用img.item(a,b)格式访问，只能一个个通道访问，如img.item(a,b,c),其中c=0，1,2\n",
    "\n",
    "实例\n",
    "\n",
    "blue=img.item(78,125,0)\n",
    "\n",
    "green=img.item(78,125,1)\n",
    "\n",
    "red=img.item(78,125,2)\n",
    "\n",
    "2. 修改像素值\n",
    "\n",
    "语法： 图像名.itemset(位置，新值）\n",
    "\n",
    "实例：\n",
    "\n",
    "img.itemset((88,99),255) #灰度图像\n",
    "\n",
    "#BGR图像,：\n",
    "\n",
    "img.itemset((88,99,0),255) \n",
    "img.itemset((88,99,1),50)\n",
    "img.itemset((88,99,2),30)"
   ]
  },
  {
   "cell_type": "markdown",
   "metadata": {},
   "source": [
    "3 实例"
   ]
  },
  {
   "cell_type": "code",
   "execution_count": null,
   "metadata": {},
   "outputs": [],
   "source": [
    "import cv2\n",
    "import numpy as np\n",
    "img=cv2.imread(\"/home/lyc/Desktop/python+opencv/image/lena256.bmp\",cv2.IMREAD_UNCHANGED) #灰度图像\n",
    "print(img.item(100,100))\n",
    "img.itemset((100,100),0)\n",
    "print(img.item(100,100))\n",
    "\n",
    "img=cv2.imread(\"/home/lyc/Desktop/python+opencv/image/lenacolor.png\",cv2.IMREAD_UNCHANGED) #BGR图像\n",
    "print(img.item(100,100,0)) #不能用img.item(100,100)，否则会报错\n",
    "img.itemset((100,100,0),0)\n",
    "img.itemset((100,100,1),20)\n",
    "img.itemset((100,100,2),30)\n",
    "print(img.item(100,100,1))\n",
    "\n"
   ]
  },
  {
   "cell_type": "markdown",
   "metadata": {},
   "source": [
    "## 4 获取图像属性\n",
    "1）形状：行、列、通道数\n",
    "\n",
    "用shape，返回元组\n",
    "\n",
    "灰度图像：返回行数、列数\n",
    "\n",
    "彩色图像：返回行数、列数、通道数\n",
    "\n",
    "格式： 图像名.shape,如img.shape #(512,512)\n",
    "\n",
    "2）像素数目列数\n",
    "\n",
    "用size\n",
    "\n",
    "灰度图像：返回： 行数*列数\n",
    "\n",
    "彩色图像：返回： 行数*列数*通道数\n",
    "\n",
    "格式：图像名.size,如img.size #786432\n",
    "\n",
    "3）图像的数据类型\n",
    "\n",
    "用dtype\n",
    "\n",
    "格式：图像名.dtype,如img.dtype #uint8"
   ]
  },
  {
   "cell_type": "markdown",
   "metadata": {},
   "source": [
    "实例"
   ]
  },
  {
   "cell_type": "code",
   "execution_count": null,
   "metadata": {},
   "outputs": [],
   "source": [
    "import cv2\n",
    "imga=cv2.imread(\"/home/lyc/Desktop/python+opencv/image/lena256.bmp\",cv2.IMREAD_UNCHANGED) #灰度图像\n",
    "imgb=cv2.imread(\"/home/lyc/Desktop/python+opencv/image/lenacolor.png\",cv2.IMREAD_UNCHANGED) #彩色图像\n",
    "print(imga.shape)\n",
    "print(imgb.shape)\n",
    "print(imga.size)\n",
    "print(imgb.size)\n",
    "print(imga.dtype)\n",
    "print(imgb.dtype)"
   ]
  },
  {
   "cell_type": "markdown",
   "metadata": {},
   "source": [
    "## 5 感兴趣区域ROI\n",
    "ROI：region of interest，感兴趣区域\n",
    "\n",
    "用方框、圆、椭圆、不规则多边形等方式勾勒出需要处理的区域\n",
    "\n",
    "可以通过各种算子(operator)和函数来求得感兴趣区域\n",
    "\n",
    "可以通过切片得到感兴趣区域，如img[200:400,600:800]"
   ]
  },
  {
   "cell_type": "markdown",
   "metadata": {},
   "source": [
    "实例"
   ]
  },
  {
   "cell_type": "code",
   "execution_count": 1,
   "metadata": {},
   "outputs": [],
   "source": [
    "import cv2\n",
    "import numpy as np\n",
    "imga=cv2.imread(\"/home/lyc/Desktop/python+opencv/image/lenacolor.png\") #彩色图像\n",
    "cv2.imshow(\"original\",imga)\n",
    "cv2.waitKey()\n",
    "cv2.destroyAllWindows()"
   ]
  },
  {
   "cell_type": "code",
   "execution_count": 2,
   "metadata": {
    "scrolled": true
   },
   "outputs": [],
   "source": [
    "b=imga[220:400,250:350]\n",
    "cv2.imshow(\"face\",b)\n",
    "cv2.waitKey(-4)\n",
    "cv2.destroyAllWindows()"
   ]
  },
  {
   "cell_type": "code",
   "execution_count": 3,
   "metadata": {},
   "outputs": [],
   "source": [
    "imga[0:180,0:100]=b\n",
    "cv2.imshow(\"test\",imga)\n",
    "cv2.waitKey(0)\n",
    "cv2.destroyAllWindows()"
   ]
  },
  {
   "cell_type": "code",
   "execution_count": 5,
   "metadata": {},
   "outputs": [],
   "source": [
    "imgb=cv2.imread(\"/home/lyc/Desktop/python+opencv/image/girl.bmp\") #彩色图像\n",
    "imgb[180:360,200:300]=b\n",
    "cv2.imshow(\"test\",imgb)\n",
    "cv2.waitKey(0)\n",
    "cv2.destroyAllWindows()"
   ]
  },
  {
   "cell_type": "markdown",
   "metadata": {},
   "source": [
    "## 6 通道的拆分和合并\n",
    "1 拆分通道\n",
    "\n",
    "如将彩色图像的拆分成三个通道\n",
    "\n",
    "img=cv2.imread('图像名‘）\n",
    "\n",
    "b=img[:,:,0]\n",
    "\n",
    "g=img[:,:,1]\n",
    "\n",
    "r=img[:,:,2]\n",
    "\n",
    "另一种更简单的方法：\n",
    "\n",
    "b,g,r=cv2.split(img)\n",
    "\n",
    "或者\n",
    "\n",
    "b=cv2.split(img)[0]\n",
    "\n",
    "g=cv2.split(img)[1]\n",
    "\n",
    "r=cv2.split(img)[2]\n",
    "\n",
    "2 合并通道\n",
    "\n",
    "将B、G、R通道合并\n",
    "\n",
    "格式：cv2.merge([b,g,r])\n",
    "\n",
    "注意：合并通道时需要要按照B、G、R顺序，如果按照R、G、B格式，结果将不一样"
   ]
  },
  {
   "cell_type": "markdown",
   "metadata": {},
   "source": [
    "实例"
   ]
  },
  {
   "cell_type": "code",
   "execution_count": 7,
   "metadata": {},
   "outputs": [],
   "source": [
    "import cv2\n",
    "img=cv2.imread(\"/home/lyc/Desktop/python+opencv/image/lenacolor.png\")\n",
    "b,g,r=cv2.split(img)\n",
    "cv2.imshow(\"original\",img)\n",
    "cv2.imshow(\"b\",b)\n",
    "cv2.imshow(\"g\",g)\n",
    "cv2.imshow(\"r\",r)\n",
    "bgr=cv2.merge([b,g,r])\n",
    "rgb=cv2.merge([r,g,b])\n",
    "cv2.imshow(\"bgr\",bgr)\n",
    "cv2.imshow(\"rgb\",rgb)\n",
    "cv2.waitKey(0)\n",
    "cv2.destroyAllWindows()"
   ]
  },
  {
   "cell_type": "code",
   "execution_count": null,
   "metadata": {},
   "outputs": [],
   "source": [
    "import numpy as np\n",
    "rows,cols,chn=img.shape\n",
    "b=cv2.split(img)[0]\n",
    "g=np.zeros((rows,cols),img.dtype)\n",
    "r=np.zeros((rows,cols),img.dtype)\n",
    "imgb=cv2.merge([b,g,r])\n",
    "cv2.imshow(\"imgb\",imgb)\n",
    "\n",
    "\n",
    "g=cv2.split(img)[1]\n",
    "b=np.zeros((rows,cols),img.dtype)\n",
    "r=np.zeros((rows,cols),img.dtype)\n",
    "imgg=cv2.merge([b,g,r])\n",
    "cv2.imshow(\"imgg\",imgg)\n",
    "\n",
    "\n",
    "r=cv2.split(img)[2]\n",
    "b=np.zeros((rows,cols),img.dtype)\n",
    "g=np.zeros((rows,cols),img.dtype)\n",
    "imgr=cv2.merge([b,g,r])\n",
    "cv2.imshow(\"imgr\",imgr)\n",
    "cv2.waitKey(0)\n",
    "cv2.destroyAllWindows()"
   ]
  }
 ],
 "metadata": {
  "kernelspec": {
   "display_name": "Python 3",
   "language": "python",
   "name": "python3"
  },
  "language_info": {
   "codemirror_mode": {
    "name": "ipython",
    "version": 3
   },
   "file_extension": ".py",
   "mimetype": "text/x-python",
   "name": "python",
   "nbconvert_exporter": "python",
   "pygments_lexer": "ipython3",
   "version": "3.7.0"
  }
 },
 "nbformat": 4,
 "nbformat_minor": 2
}
