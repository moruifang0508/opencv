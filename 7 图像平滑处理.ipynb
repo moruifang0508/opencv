{
 "cells": [
  {
   "cell_type": "markdown",
   "metadata": {},
   "source": [
    "## 1 均值滤波\n",
    "以每个像素为中心，取n*n的子矩阵，求子矩阵中所有值的平均值，设为该像素点的值\n",
    "\n",
    "函数blur\n",
    "\n",
    "格式：处理结果=cv2.blur(原始图像，核大小）\n",
    "\n",
    "实例： cv2.blur(img,(5,5))"
   ]
  },
  {
   "cell_type": "markdown",
   "metadata": {},
   "source": [
    "实例"
   ]
  },
  {
   "cell_type": "code",
   "execution_count": 5,
   "metadata": {},
   "outputs": [],
   "source": [
    "import cv2\n",
    "imga=cv2.imread(\"./image/lenacolor.png\")\n",
    "imgb=cv2.blur(imga,(10,10))\n",
    "cv2.imshow(\"imga\",imga)\n",
    "cv2.imshow(\"imgb\",imgb)\n",
    "cv2.waitKey(0)\n",
    "cv2.destroyAllWindows()"
   ]
  },
  {
   "cell_type": "markdown",
   "metadata": {},
   "source": [
    "## 2 方框滤波\n",
    "函数boxFilter\n",
    "\n",
    "格式：处理结果=cv2.boxFilter(原始图像，目标图像深度，核大小，normalize属性）\n",
    "\n",
    "目标图像深度：int类型，通常为-1，表示与原图像一致\n",
    "\n",
    "normalize属性：是否进行归一化处理，如果省略或者设为normalize=1，则进行归一化处理，取均值，相当于均值滤波，如果为normalize=0，只是取所有元素之和，很容易发生溢出，如果大于255，将取255"
   ]
  },
  {
   "cell_type": "code",
   "execution_count": 7,
   "metadata": {},
   "outputs": [],
   "source": [
    "import cv2\n",
    "imga=cv2.imread(\"./image/lenacolor.png\")\n",
    "imgb=cv2.boxFilter(imga,-1,(2,2))\n",
    "imgc=cv2.boxFilter(imga,-1,(2,2),normalize=1)\n",
    "imgd=cv2.boxFilter(imga,-1,(2,2),normalize=0)\n",
    "\n",
    "cv2.imshow(\"imga\",imga)\n",
    "cv2.imshow(\"imgb\",imgb)\n",
    "cv2.imshow(\"imgc\",imgc)\n",
    "cv2.imshow(\"imgd\",imgd)\n",
    "cv2.waitKey(0)\n",
    "cv2.destroyAllWindows()"
   ]
  },
  {
   "cell_type": "markdown",
   "metadata": {},
   "source": [
    "## 3 高斯滤波\n",
    "对周围像素计算加权平均值，较近的像素具有更大的权重值\n",
    "\n",
    "函数GaussianBlur\n",
    "\n",
    "格式：dst=cv2.GaussianBlur(src,ksize,signmaX)\n",
    "\n",
    "src:原始图像\n",
    "\n",
    "ksize：核大小，必须是奇数\n",
    "\n",
    "sigmaX：X方向方差，控制权重，Y方向省略掉了，跟X方向一致"
   ]
  },
  {
   "cell_type": "code",
   "execution_count": 8,
   "metadata": {},
   "outputs": [],
   "source": [
    "import cv2\n",
    "imga=cv2.imread(\"./image/lenacolor.png\")\n",
    "imgb=cv2.GaussianBlur(imga,(5,5),0)\n",
    "cv2.imshow(\"imga\",imga)\n",
    "cv2.imshow(\"imgb\",imgb)\n",
    "cv2.waitKey(0)\n",
    "cv2.destroyAllWindows()"
   ]
  },
  {
   "cell_type": "markdown",
   "metadata": {},
   "source": [
    "## 4 中值滤波\n",
    "\n",
    "对周围像素进行排序，取中间位置值作为中值滤波后的值\n",
    "\n",
    "函数medianBlur\n",
    "\n",
    "中值滤波一般比其他滤波效果好一些\n",
    "\n",
    "格式：dst=cv2.medianBlur(src,ksize)\n",
    "\n",
    "ksize：必须是比1大的奇数，如3、5、7等"
   ]
  },
  {
   "cell_type": "code",
   "execution_count": 9,
   "metadata": {},
   "outputs": [],
   "source": [
    "import cv2\n",
    "imga=cv2.imread(\"./image/lenacolor.png\")\n",
    "imgb=cv2.medianBlur(imga,5)\n",
    "cv2.imshow(\"imga\",imga)\n",
    "cv2.imshow(\"imgb\",imgb)\n",
    "cv2.waitKey(0)\n",
    "cv2.destroyAllWindows()"
   ]
  }
 ],
 "metadata": {
  "kernelspec": {
   "display_name": "Python 3",
   "language": "python",
   "name": "python3"
  },
  "language_info": {
   "codemirror_mode": {
    "name": "ipython",
    "version": 3
   },
   "file_extension": ".py",
   "mimetype": "text/x-python",
   "name": "python",
   "nbconvert_exporter": "python",
   "pygments_lexer": "ipython3",
   "version": "3.7.0"
  }
 },
 "nbformat": 4,
 "nbformat_minor": 2
}
