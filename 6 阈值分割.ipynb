{
 "cells": [
  {
   "cell_type": "markdown",
   "metadata": {},
   "source": [
    "## 1 基础理论 "
   ]
  },
  {
   "cell_type": "markdown",
   "metadata": {},
   "source": [
    "一个图像中有最大值和最小值，可以通过阈值(threshold leve)对小于阈值的数据或大于阈值的数据进行处理，常用五种形式：\n",
    "\n",
    "1）二进制阈值化：大于等于阈值的像素值全部取最大值(如8位灰度值最大为255)，可以自己定义，如1,小于阈值的像素值全部取最小值0\n",
    "\n",
    "cv2.THRESH_BINARY\n",
    "\n",
    "如：阈值取127， 则159->255,105->0, 205->255,98->0\n",
    "\n",
    "2)反二进制阈值化，与二进制阈值刚好相反，大于阈值的像素值全部取最小值，小于阈值的像素值全部取最大值\n",
    "\n",
    "cv2.THRESH_BINARY_INV\n",
    "\n",
    "如：阈值取127，则159->0,105->255,205->0,98->255(有时候也不一定是255，而是1）\n",
    "\n",
    "3）截断阈值化：将大于等于阈值的像素点全部设为该阈值，其他值不变\n",
    "\n",
    "cv2.THRESH_TRUNC\n",
    "\n",
    "如阈值取127，则159->127,105->105,205>127,98->98\n",
    "\n",
    "4)阈值化为0\n",
    "\n",
    "大于等于阈值的像素值不变，小于阈值的像素值变为0\n",
    "\n",
    "cv2.THRESH_TOZERO\n",
    "\n",
    "如阈值取127，则159->159,105->0,205->205,98->0\n",
    "\n",
    "5)反阈值化为0：大于等于阈值的像素点变为0,其他值不变\n",
    "\n",
    "cv2.THRESH_TOZERO_INV\n",
    "\n",
    "如阈值为127，则159->0,105->105,205->0,98->98"
   ]
  },
  {
   "cell_type": "markdown",
   "metadata": {},
   "source": [
    "## 2 threshold函数\n",
    "\n",
    "格式：\n",
    "\n",
    "retval,dst=cv2.shreshold(src,thresh,maxval,type)\n",
    "\n",
    "retval:阈值，一般等于thresh\n",
    "\n",
    "dst:处理结果\n",
    "\n",
    "src：源图像\n",
    "\n",
    "thresh:阈值，一般取128\n",
    "\n",
    "maxval:最大值，可以自行定义，如1或255\n",
    "\n",
    "type：类型，一般有五种"
   ]
  },
  {
   "cell_type": "code",
   "execution_count": 3,
   "metadata": {},
   "outputs": [],
   "source": [
    "import cv2\n",
    "img=cv2.imread(\"./image/lena512.bmp\",cv2.IMREAD_UNCHANGED)\n",
    "thresh,img_binary=cv2.threshold(img,128,255,cv2.THRESH_BINARY)\n",
    "thresh,img_binary_inv=cv2.threshold(img,128,255,cv2.THRESH_BINARY_INV)\n",
    "thresh,img_trunc=cv2.threshold(img,128,255,cv2.THRESH_TRUNC)\n",
    "thresh,img_tozero=cv2.threshold(img,128,255,cv2.THRESH_TOZERO)\n",
    "thresh,img_tozero_inv=cv2.threshold(img,128,255,cv2.THRESH_TOZERO_INV)\n",
    "\n",
    "cv2.imshow(\"img\",img)\n",
    "cv2.imshow(\"img_binary\",img_binary)\n",
    "cv2.imshow(\"img_binary_inv\",img_binary_inv)\n",
    "cv2.imshow(\"img_trunc\",img_trunc)\n",
    "cv2.imshow(\"img_tozero\",img_tozero)\n",
    "cv2.imshow(\"img_tozero_inv\",img_tozero_inv)\n",
    "\n",
    "cv2.waitKey(0)\n",
    "cv2.destroyAllWindows()"
   ]
  }
 ],
 "metadata": {
  "kernelspec": {
   "display_name": "Python 3",
   "language": "python",
   "name": "python3"
  },
  "language_info": {
   "codemirror_mode": {
    "name": "ipython",
    "version": 3
   },
   "file_extension": ".py",
   "mimetype": "text/x-python",
   "name": "python",
   "nbconvert_exporter": "python",
   "pygments_lexer": "ipython3",
   "version": "3.7.0"
  }
 },
 "nbformat": 4,
 "nbformat_minor": 2
}
