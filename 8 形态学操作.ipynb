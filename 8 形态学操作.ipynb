{
 "cells": [
  {
   "cell_type": "markdown",
   "metadata": {},
   "source": [
    "## 1 图像腐蚀 \n",
    "形态学转换主要针对二值图像，0为黑色，1为白色\n",
    "\n",
    "有两个输入对象：\n",
    "\n",
    "对象1：二值图像\n",
    "\n",
    "对象2：卷积核\n",
    "\n",
    "只有当卷积核扫描到的区域内所有值为1时，中心点才取1,否则取0\n",
    "\n",
    "卷积核可以设为一个初始值，如\n",
    "\n",
    "k=np.ones((5,5),np.uint8)\n",
    "\n",
    "\n",
    "函数erode\n",
    "\n",
    "格式：dst=cv2.erode(src,kernel,iterations)\n",
    "\n",
    "dst:处理结果\n",
    "\n",
    "src：源图像\n",
    "\n",
    "kernel:卷积核\n",
    "\n",
    "iterations:迭代次数，如果没有该值，则默认1次，可以通过该值设置腐蚀程度"
   ]
  },
  {
   "cell_type": "code",
   "execution_count": 1,
   "metadata": {},
   "outputs": [],
   "source": [
    "import cv2\n",
    "import numpy as np\n",
    "imga=cv2.imread(\"/home/lyc/Desktop/python+opencv/chapter9/erode.bmp\",cv2.IMREAD_UNCHANGED)\n",
    "k=np.ones((5,5),np.uint8)\n",
    "imgb=cv2.erode(imga,k)\n",
    "imgc=cv2.erode(imgb,k,iterations=3)\n",
    "cv2.imshow(\"imga\",imga)\n",
    "cv2.imshow(\"imgb\",imgb)\n",
    "cv2.imshow(\"imgc\",imgc)\n",
    "cv2.waitKey(0)\n",
    "cv2.destroyAllWindows()"
   ]
  },
  {
   "cell_type": "markdown",
   "metadata": {},
   "source": [
    "## 2 图像膨胀\n",
    "\n",
    "图像腐蚀的逆操作\n",
    "\n",
    "图像腐蚀后，去除了噪声，但是会压缩图像，对腐蚀过的图形进行膨胀处理，可以去除噪声，并保持原有形状\n",
    "\n",
    "在形态学中，先腐蚀再膨胀，叫开运算\n",
    "\n",
    "当卷积核对应的元素中只要有一个元素为1时，就取像素点为1,否则为0\n",
    "\n",
    "函数dilate\n",
    "\n",
    "格式：dst=cv2.dilate(src,kernel,iterations)\n",
    "\n",
    "dst:处理结果\n",
    "\n",
    "src：源图像\n",
    "\n",
    "kernel：卷积核，可以用卷积核：\n",
    "\n",
    "kernel=np.ones((5,5),np.unit8))\n",
    "\n",
    "iterations:迭代次数，默认为1次"
   ]
  },
  {
   "cell_type": "code",
   "execution_count": 6,
   "metadata": {},
   "outputs": [],
   "source": [
    "import cv2\n",
    "import numpy as np\n",
    "img=cv2.imread(\"/home/lyc/Desktop/python+opencv/chapter9/dilation.bmp\",cv2.IMREAD_UNCHANGED)\n",
    "k=np.ones((5,5),np.uint8)\n",
    "imgb=cv2.dilate(img,k)\n",
    "imgc=cv2.dilate(img,k,iterations=5)\n",
    "cv2.imshow(\"img\",img)\n",
    "cv2.imshow(\"imgb\",imgb)\n",
    "cv2.imshow(\"imgc\",imgc)\n",
    "cv2.waitKey(0)\n",
    "cv2.destroyAllWindows()"
   ]
  },
  {
   "cell_type": "markdown",
   "metadata": {},
   "source": [
    "## 3 图像开运算\n",
    "\n",
    "先腐蚀，再膨胀，可以去除噪声，并保持原有形状\n",
    "\n",
    "开运算(image)=膨胀（腐蚀（image））\n",
    "\n",
    "函数morphologyEx\n",
    "\n",
    "格式：opening=cv2.morphologyEx(img,cv2.MORPH_OPEN,kernel)"
   ]
  },
  {
   "cell_type": "code",
   "execution_count": 9,
   "metadata": {},
   "outputs": [],
   "source": [
    "import cv2\n",
    "import numpy as np\n",
    "img=cv2.imread(\"/home/lyc/Desktop/python+opencv/chapter9/opening.bmp\",cv2.IMREAD_UNCHANGED)\n",
    "k=np.ones((5,5),np.uint8) #如果去噪的效果不好，可以通过调节k的大小，如改为(10,10)\n",
    "imgb=cv2.morphologyEx(img,cv2.MORPH_OPEN,k)\n",
    "cv2.imshow(\"img\",img)\n",
    "cv2.imshow(\"imgb\",imgb)\n",
    "cv2.waitKey(0)\n",
    "cv2.destroyAllWindows()"
   ]
  },
  {
   "cell_type": "markdown",
   "metadata": {},
   "source": [
    "## 4 图像闭运算\n",
    "先膨胀，后腐蚀，有助于关闭物体内部的小孔或小黑点\n",
    "\n",
    "闭运算(image)=腐蚀(膨胀（image））\n",
    "\n",
    "函数morphologyEx\n",
    "\n",
    "格式：closing=cv2.morphologyEx(img,cv2.MORPH_CLOSE,kernel)\n"
   ]
  },
  {
   "cell_type": "code",
   "execution_count": 10,
   "metadata": {},
   "outputs": [],
   "source": [
    "import cv2\n",
    "import numpy as np\n",
    "img=cv2.imread(\"/home/lyc/Desktop/python+opencv/chapter9/closing.bmp\",cv2.IMREAD_UNCHANGED)\n",
    "k=np.ones((5,5),np.uint8) #如果去噪的效果不好，可以通过调节k的大小，如改为(10,10)\n",
    "imgb=cv2.morphologyEx(img,cv2.MORPH_CLOSE,k)\n",
    "cv2.imshow(\"img\",img)\n",
    "cv2.imshow(\"imgb\",imgb)\n",
    "cv2.waitKey(0)\n",
    "cv2.destroyAllWindows()"
   ]
  },
  {
   "cell_type": "markdown",
   "metadata": {},
   "source": [
    "## 5 梯度操作\n",
    "膨胀图像-腐蚀图像，得到轮廓图像\n",
    "式：closing=cv2.morphologyEx(img,cv2.MORPH_CLOSE,kernel)\n",
    "\n",
    "梯度(imag)=膨胀(image)-腐蚀（image)\n",
    "\n",
    "函数morphologyEx\n",
    "\n",
    "格式：result=cv2.morphologyEx(img,cv2.MORPH_GRADIENT,kernel)"
   ]
  },
  {
   "cell_type": "code",
   "execution_count": 11,
   "metadata": {},
   "outputs": [],
   "source": [
    "import cv2\n",
    "import numpy as np\n",
    "img=cv2.imread(\"/home/lyc/Desktop/python+opencv/chapter9/gradient.bmp\",cv2.IMREAD_UNCHANGED)\n",
    "k=np.ones((5,5),np.uint8) \n",
    "imgb=cv2.morphologyEx(img,cv2.MORPH_GRADIENT,k)\n",
    "cv2.imshow(\"img\",img)\n",
    "cv2.imshow(\"imgb\",imgb)\n",
    "cv2.waitKey(0)\n",
    "cv2.destroyAllWindows()"
   ]
  },
  {
   "cell_type": "markdown",
   "metadata": {},
   "source": [
    "## 6 图像顶帽（礼帽）\n",
    "礼帽图像=原始图像-开运算图像 得到噪声图像\n",
    "\n",
    "礼帽(image)=image-开运算(image)\n",
    "\n",
    "函数morphologyEx\n",
    "\n",
    "格式：result=cv2.morphologyEx(img,cv2.MORPH_TOPHAT,kernel)"
   ]
  },
  {
   "cell_type": "code",
   "execution_count": 12,
   "metadata": {},
   "outputs": [],
   "source": [
    "import cv2\n",
    "import numpy as np\n",
    "img=cv2.imread(\"/home/lyc/Desktop/python+opencv/chapter9/tophat.bmp\",cv2.IMREAD_UNCHANGED)\n",
    "k=np.ones((5,5),np.uint8) \n",
    "imgb=cv2.morphologyEx(img,cv2.MORPH_TOPHAT,k)\n",
    "cv2.imshow(\"img\",img)\n",
    "cv2.imshow(\"imgb\",imgb)\n",
    "cv2.waitKey(0)\n",
    "cv2.destroyAllWindows()"
   ]
  },
  {
   "cell_type": "markdown",
   "metadata": {},
   "source": [
    "## 图像黑帽\n",
    "黑帽图像=闭运算图像-原始图像 得到图像内部的小孔，或小黑点\n",
    "\n",
    "黑帽(image)=闭运算(image)-image\n",
    "\n",
    "函数morphologyEx\n",
    "\n",
    "格式：result=cv2.morphologyEx(img,cv2.MORPH_BLACKHAT,kernel)"
   ]
  },
  {
   "cell_type": "code",
   "execution_count": 13,
   "metadata": {},
   "outputs": [],
   "source": [
    "import cv2\n",
    "import numpy as np\n",
    "img=cv2.imread(\"/home/lyc/Desktop/python+opencv/chapter9/blackhat.bmp\",cv2.IMREAD_UNCHANGED)\n",
    "k=np.ones((5,5),np.uint8) \n",
    "imgb=cv2.morphologyEx(img,cv2.MORPH_BLACKHAT,k)\n",
    "cv2.imshow(\"img\",img)\n",
    "cv2.imshow(\"imgb\",imgb)\n",
    "cv2.waitKey(0)\n",
    "cv2.destroyAllWindows()"
   ]
  }
 ],
 "metadata": {
  "kernelspec": {
   "display_name": "Python 3",
   "language": "python",
   "name": "python3"
  },
  "language_info": {
   "codemirror_mode": {
    "name": "ipython",
    "version": 3
   },
   "file_extension": ".py",
   "mimetype": "text/x-python",
   "name": "python",
   "nbconvert_exporter": "python",
   "pygments_lexer": "ipython3",
   "version": "3.7.0"
  }
 },
 "nbformat": 4,
 "nbformat_minor": 2
}
