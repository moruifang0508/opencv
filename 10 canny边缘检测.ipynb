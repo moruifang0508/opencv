{
 "cells": [
  {
   "cell_type": "markdown",
   "metadata": {},
   "source": [
    "## 1 canny边缘检测原理\n",
    "canny边缘检测的一般步骤：\n",
    "\n",
    "1）去噪\n",
    "\n",
    "边缘检测很容易受噪声的影响，通常需要先去噪，通常采用高斯滤波器，让临近的像素具有更高的重要度，对周围像素计算加权平均值，较近的像素具有较大的权重值\n",
    "\n",
    "2）梯度\n",
    "\n",
    "对平滑后的图像采用sobel算子计算梯度和方向\n",
    "\n",
    "G=sqrt(Gx^2+Gy^2),这样算比较麻烦，一般直接简化为|Gx|+|Gy|\n",
    "\n",
    "angle=tan-1（Gy/Gx）\n",
    "\n",
    "梯度的方向一般总是与边界垂直，被归为四类：垂直、水平和两个对角线\n",
    "\n",
    "3）非极大值抑制\n",
    "\n",
    "在获得了梯度和方向后，遍历图像，去除所有不是边界的点\n",
    "\n",
    "实现方法：逐个遍历像素点，判断当前像素点是否是周围像素点中具有相同方向梯度的最大值，最大的保留，其它抛弃（处理为0）\n",
    "\n",
    "4）滞后阈值\n",
    "\n",
    "原理：\n",
    "\n",
    "取两个阈值： 阈值1：minVal 极小值  阈值2：maxVal 极大值\n",
    "\n",
    "梯度大于maxVal：保留，作为边界\n",
    "\n",
    "梯度小于minVal：抛弃\n",
    "\n",
    "梯度介于两者，且与边界相连：保留\n",
    "\n",
    "梯度介于两者，且与边界不相连：抛弃"
   ]
  },
  {
   "cell_type": "markdown",
   "metadata": {},
   "source": [
    "## 2 canny函数及使用\n",
    "\n",
    "格式：edges=cv2.Canny(image,threshold1,threshold2)\n",
    "\n",
    "edges:只包含边界的图像\n",
    "\n",
    "image：原始图像\n",
    "\n",
    "threshold1:minVal阈值1\n",
    "\n",
    "threshold2：maxVal阈值2\n",
    "\n",
    "调整阈值，可以控制边缘细节，如果两个阈值比较小：获得的信息比较多，图像会比较丰富，如果都比较大，包含的信息会比较少"
   ]
  },
  {
   "cell_type": "code",
   "execution_count": 2,
   "metadata": {},
   "outputs": [],
   "source": [
    "import cv2\n",
    "import numpy as np\n",
    "img=cv2.imread(\"/home/lyc/Desktop/python+opencv/chapter11/canny.bmp\",cv2.IMREAD_GRAYSCALE)\n",
    "imgcanny=cv2.Canny(img,100,200)\n",
    "cv2.imshow(\"original\",img)\n",
    "cv2.imshow(\"result\",imgcanny)\n",
    "cv2.waitKey(0)\n",
    "cv2.destroyAllWindows()"
   ]
  },
  {
   "cell_type": "code",
   "execution_count": 3,
   "metadata": {},
   "outputs": [],
   "source": [
    "import cv2\n",
    "import numpy as np\n",
    "img=cv2.imread(\"/home/lyc/Desktop/python+opencv/chapter11/lena.bmp\",cv2.IMREAD_GRAYSCALE)\n",
    "img1=cv2.Canny(img,100,200)\n",
    "img2=cv2.Canny(img,64,128)\n",
    "cv2.imshow(\"original\",img)\n",
    "cv2.imshow(\"img1\",img1)\n",
    "cv2.imshow(\"img2\",img2)\n",
    "cv2.waitKey(0)\n",
    "cv2.destroyAllWindows()"
   ]
  }
 ],
 "metadata": {
  "kernelspec": {
   "display_name": "Python 3",
   "language": "python",
   "name": "python3"
  },
  "language_info": {
   "codemirror_mode": {
    "name": "ipython",
    "version": 3
   },
   "file_extension": ".py",
   "mimetype": "text/x-python",
   "name": "python",
   "nbconvert_exporter": "python",
   "pygments_lexer": "ipython3",
   "version": "3.7.0"
  }
 },
 "nbformat": 4,
 "nbformat_minor": 2
}
